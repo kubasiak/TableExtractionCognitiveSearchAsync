{
 "cells": [
  {
   "cell_type": "code",
   "execution_count": 2,
   "metadata": {},
   "outputs": [],
   "source": [
    "import logging, json, os, requests, datetime\n",
    "import azure.functions as func\n",
    "from azure.servicebus import ServiceBusClient, ServiceBusMessage\n"
   ]
  },
  {
   "cell_type": "code",
   "execution_count": 3,
   "metadata": {},
   "outputs": [],
   "source": [
    "output = {\n",
    "    \"key\": \"\", \n",
    "    \"file_path\": \"https://raw.githubusercontent.com/Azure-Samples/cognitive-services-REST-api-samples/master/curl/form-recognizer/rest-api/layout.png\", \n",
    "    \"model\": \"prebuilt-layout\", \n",
    "    \"operation_location\": \"\", \n",
    "    \"Operation-location\": \"https://formr-pdf.cognitiveservices.azure.com/formrecognizer/documentModels/prebuilt-layout/analyzeResults/4dbb0d6a-d743-4d91-9e83-61f26efc3a12?api-version=2022-08-31\"}"
   ]
  },
  {
   "cell_type": "code",
   "execution_count": 4,
   "metadata": {},
   "outputs": [
    {
     "name": "stdout",
     "output_type": "stream",
     "text": [
      "{\n",
      "        \"key\": \"\",\n",
      "        \"file_path\": \"https://raw.githubusercontent.com/Azure-Samples/cognitive-services-REST-api-samples/master/curl/form-recognizer/rest-api/layout.png\",\n",
      "        \"model\": \"prebuilt-layout\",\n",
      "        \"operation_location\": \"\",\n",
      "        \"Operation-location\": \"https://formr-pdf.cognitiveservices.azure.com/formrecognizer/documentModels/prebuilt-layout/analyzeResults/4dbb0d6a-d743-4d91-9e83-61f26efc3a12?api-version=2022-08-31\"\n",
      "}\n"
     ]
    }
   ],
   "source": [
    "msg = json.dumps(output, indent=8) # dict to string\n",
    "print(msg)\n",
    "data = json.loads(msg)"
   ]
  },
  {
   "cell_type": "code",
   "execution_count": 5,
   "metadata": {},
   "outputs": [],
   "source": [
    "cog_endpoint = \"https://formr-pdf.cognitiveservices.azure.com/\"\n",
    "cog_key = \"c034489b5cc34af187712e6db5a2b756\"\n",
    "model= \"prebuilt-layout\"\n",
    "form_recognizer_url = f\"{cog_endpoint}formrecognizer/documentModels/{model}:analyze?api-version=2022-08-31\"\n"
   ]
  },
  {
   "cell_type": "code",
   "execution_count": 6,
   "metadata": {},
   "outputs": [],
   "source": [
    "r = requests.get(\n",
    "    data['Operation-location'], \n",
    "    headers={'Ocp-Apim-Subscription-Key': cog_key}\n",
    "    )"
   ]
  },
  {
   "cell_type": "code",
   "execution_count": 7,
   "metadata": {},
   "outputs": [
    {
     "name": "stdout",
     "output_type": "stream",
     "text": [
      "succeeded\n"
     ]
    }
   ],
   "source": [
    "status=r.json()['status']\n",
    "print(status)\n",
    "\n",
    "if status == 'succeeded':\n",
    "        data['results'] = r.json()\n",
    "elif status in ('notStarted', 'running'):\n",
    "        pass"
   ]
  },
  {
   "cell_type": "code",
   "execution_count": 9,
   "metadata": {},
   "outputs": [
    {
     "name": "stdout",
     "output_type": "stream",
     "text": [
      "found 2 tables\n"
     ]
    }
   ],
   "source": [
    "res=data['results']['analyzeResult']['tables']\n",
    "print(\"found\" , len(res), 'tables')"
   ]
  },
  {
   "cell_type": "code",
   "execution_count": 10,
   "metadata": {},
   "outputs": [],
   "source": [
    "#import pandas as pd\n",
    "\n",
    "tables=[]\n",
    "if 'tables' in data['results']['analyzeResult'].keys():\n",
    "    res=data['results']['analyzeResult']['tables']\n",
    "    for table in res:\n",
    "        raw_text=[]\n",
    "        cells = []\n",
    "        headers=[]\n",
    "        regions=table['boundingRegions']\n",
    "        for r in regions: pageNumber = r['pageNumber']\n",
    "        for cell in table['cells']:\n",
    "            cells.append(\n",
    "            {\n",
    "                \"text\": cell['content'],\n",
    "                \"rowIndex\": cell['rowIndex'],\n",
    "                \"colIndex\": cell['columnIndex'],\n",
    "                \"confidence\": '',\n",
    "                \"is_header\": False\n",
    "            })\n",
    "            isheader=False\n",
    "            if ('kind' in cell.keys() ): \n",
    "                isheader = (cell['kind']=='columnHeader')\n",
    "                cells.append({'is_header': isheader})\n",
    "                if isheader: \n",
    "                    headers.append(cell['content'])\n",
    "            if not isheader: \n",
    "                raw_text.append(cell['content'])\n",
    "\n",
    "\n",
    "        tables.append({\n",
    "            \"page_number\": pageNumber,\n",
    "            \"raw_count\" : table['rowCount'],\n",
    "            \"column_count\": table['columnCount'],\n",
    "            \"headers\": headers,\n",
    "            \"cells\": cells,\n",
    "            \"raw_text\":raw_text\n",
    "        }\n",
    "        )\n",
    "        h=len(headers)\n",
    "        #df = pd.DataFrame([raw_text[i:i+h] for i in range(0, len(raw_text), h)],columns=headers)\n",
    "        \n"
   ]
  },
  {
   "cell_type": "code",
   "execution_count": 12,
   "metadata": {},
   "outputs": [
    {
     "data": {
      "text/html": [
       "<div>\n",
       "<style scoped>\n",
       "    .dataframe tbody tr th:only-of-type {\n",
       "        vertical-align: middle;\n",
       "    }\n",
       "\n",
       "    .dataframe tbody tr th {\n",
       "        vertical-align: top;\n",
       "    }\n",
       "\n",
       "    .dataframe thead th {\n",
       "        text-align: right;\n",
       "    }\n",
       "</style>\n",
       "<table border=\"1\" class=\"dataframe\">\n",
       "  <thead>\n",
       "    <tr style=\"text-align: right;\">\n",
       "      <th></th>\n",
       "      <th>From</th>\n",
       "      <th>To</th>\n",
       "      <th>By</th>\n",
       "      <th>ETD</th>\n",
       "      <th>ETA</th>\n",
       "    </tr>\n",
       "  </thead>\n",
       "  <tbody>\n",
       "    <tr>\n",
       "      <th>0</th>\n",
       "      <td>118 Queen Street Hoboken, NJ 07030</td>\n",
       "      <td>52 West Trenton St. Harleysville, PA 19438</td>\n",
       "      <td>cause science slow</td>\n",
       "      <td>09-Dec-2018 19:00</td>\n",
       "      <td>09-Dec-2020 11:00</td>\n",
       "    </tr>\n",
       "    <tr>\n",
       "      <th>1</th>\n",
       "      <td>9 Ketch Harbour Ave. Vincentown, NJ</td>\n",
       "      <td>75 Fawn Street Peabody, MA 01960</td>\n",
       "      <td>tone late spoken</td>\n",
       "      <td>12-Dec-2018 10:00</td>\n",
       "      <td>19-Dec-2020</td>\n",
       "    </tr>\n",
       "  </tbody>\n",
       "</table>\n",
       "</div>"
      ],
      "text/plain": [
       "                                  From  \\\n",
       "0   118 Queen Street Hoboken, NJ 07030   \n",
       "1  9 Ketch Harbour Ave. Vincentown, NJ   \n",
       "\n",
       "                                           To                  By  \\\n",
       "0  52 West Trenton St. Harleysville, PA 19438  cause science slow   \n",
       "1            75 Fawn Street Peabody, MA 01960    tone late spoken   \n",
       "\n",
       "                 ETD                ETA  \n",
       "0  09-Dec-2018 19:00  09-Dec-2020 11:00  \n",
       "1  12-Dec-2018 10:00        19-Dec-2020  "
      ]
     },
     "execution_count": 12,
     "metadata": {},
     "output_type": "execute_result"
    }
   ],
   "source": [
    "import pandas as pd\n",
    "\n",
    "t= tables[0]\n",
    "r=t['raw_text']\n",
    "h=t['headers']\n",
    "df = pd.DataFrame([r[i:i+len(h)] for i in range(0, len(r), len(h))],columns=t['headers'])\n",
    "df"
   ]
  },
  {
   "cell_type": "code",
   "execution_count": null,
   "metadata": {},
   "outputs": [],
   "source": []
  }
 ],
 "metadata": {
  "kernelspec": {
   "display_name": "venv",
   "language": "python",
   "name": "python3"
  },
  "language_info": {
   "codemirror_mode": {
    "name": "ipython",
    "version": 3
   },
   "file_extension": ".py",
   "mimetype": "text/x-python",
   "name": "python",
   "nbconvert_exporter": "python",
   "pygments_lexer": "ipython3",
   "version": "3.11.1"
  },
  "orig_nbformat": 4,
  "vscode": {
   "interpreter": {
    "hash": "0790262a85a2a0b3ca1e83a93340b5f6a685a048e5acc21461c7885a4be45318"
   }
  }
 },
 "nbformat": 4,
 "nbformat_minor": 2
}
