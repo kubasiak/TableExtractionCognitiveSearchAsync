{
 "cells": [
  {
   "cell_type": "code",
   "execution_count": 5,
   "metadata": {},
   "outputs": [],
   "source": [
    "import logging, json, os, requests, datetime\n",
    "import azure.functions as func\n",
    "from azure.servicebus import ServiceBusClient, ServiceBusMessage\n",
    "from dotenv import load_dotenv"
   ]
  },
  {
   "cell_type": "code",
   "execution_count": 2,
   "metadata": {},
   "outputs": [
    {
     "data": {
      "text/plain": [
       "dict"
      ]
     },
     "execution_count": 2,
     "metadata": {},
     "output_type": "execute_result"
    }
   ],
   "source": [
    "output = {\"key\": \"\", \"file_path\": \"https://raw.githubusercontent.com/Azure-Samples/cognitive-services-REST-api-samples/master/curl/form-recognizer/rest-api/layout.png\", \"model\": \"prebuilt-layout\",\n",
    "          \"Operation-location\": \"https://formr-pdf.cognitiveservices.azure.com/formrecognizer/documentModels/prebuilt-layout/analyzeResults/e7ece836-f3fc-4231-a959-f177ff454de4?api-version=2022-08-31\"}\n",
    "type(output)"
   ]
  },
  {
   "cell_type": "code",
   "execution_count": 1,
   "metadata": {},
   "outputs": [],
   "source": [
    "Operation_location = \"https://formr-pdf.cognitiveservices.azure.com/formrecognizer/documentModels/prebuilt-layout/analyzeResults/2e5e5a55-cc90-494b-9ee3-892321dad26b?api-version=2022-08-31\""
   ]
  },
  {
   "cell_type": "code",
   "execution_count": 3,
   "metadata": {},
   "outputs": [],
   "source": [
    "msg = json.dumps(output, indent=8) # dict to string\n",
    "data = json.loads(msg)"
   ]
  },
  {
   "cell_type": "code",
   "execution_count": 4,
   "metadata": {},
   "outputs": [],
   "source": [
    "load_dotenv('..')\n",
    "cog_endpoint = os.getenv('COGNITIVE_SERVICE_FORM_RECOGNIZER_ENDPOINT')\n",
    "cog_key = os.getenv('COGNITIVE_SERVICE_FORM_RECOGNIZER_KEY')\n",
    "model= \"prebuilt-layout\"\n",
    "form_recognizer_url = f\"{cog_endpoint}formrecognizer/documentModels/{model}:analyze?api-version=2022-08-31\""
   ]
  },
  {
   "cell_type": "code",
   "execution_count": 9,
   "metadata": {},
   "outputs": [
    {
     "data": {
      "text/plain": [
       "<Response [200]>"
      ]
     },
     "execution_count": 9,
     "metadata": {},
     "output_type": "execute_result"
    }
   ],
   "source": [
    "r = requests.get(\n",
    "    #data('Operation-location'), \n",
    "    Operation_location,\n",
    "    headers={'Ocp-Apim-Subscription-Key': cog_key}\n",
    "    )\n",
    "r"
   ]
  },
  {
   "cell_type": "code",
   "execution_count": 16,
   "metadata": {},
   "outputs": [
    {
     "name": "stdout",
     "output_type": "stream",
     "text": [
      "data.results fieldsdict_keys(['key', 'file_path', 'model', 'Operation-location', 'results'])\n",
      "document-layout API resulted in 'result'.'analyzeResult : dict_keys(['apiVersion', 'modelId', 'stringIndexType', 'content', 'pages', 'tables', 'paragraphs', 'styles'])\n",
      "found 4 tables\n"
     ]
    }
   ],
   "source": [
    "if r.json()('status') == 'succeeded':\n",
    "        data['results'] = r.json()\n",
    "        print('data.results fields'+ str(data.keys()))\n",
    "elif r.json()['status'] in ('notStarted', 'running'):\n",
    "        pass\n",
    "\n",
    "res=data['results']['analyzeResult']['tables']\n",
    "print(\"document-layout API resulted in 'result'.'analyzeResult : \"+ str(data['results']['analyzeResult'].keys()))\n",
    "\n",
    "print(\"found\" , len(res), 'tables')"
   ]
  },
  {
   "cell_type": "code",
   "execution_count": null,
   "metadata": {},
   "outputs": [],
   "source": []
  },
  {
   "cell_type": "code",
   "execution_count": 17,
   "metadata": {},
   "outputs": [],
   "source": [
    "import process_data\n",
    "if model=='prebuilt-layout':\n",
    "        tables=()\n",
    "        tables=process_data.process_tables(data)\n",
    "        processed_data=tables\n",
    "if model == 'prebuilt-invoice':\n",
    "        invoice=()\n",
    "        invoice = process_data.process_invoice(data)\n",
    "        processed_data=invoice"
   ]
  },
  {
   "cell_type": "code",
   "execution_count": 19,
   "metadata": {},
   "outputs": [
    {
     "name": "stdout",
     "output_type": "stream",
     "text": [
      "['Date of Birth:', '23 February 1974']\n",
      "['Must be completed\\nInduction Medication Complete if applicable', 'Drug Name', 'Dose', 'Presentation Required', 'Route', 'Frequency']\n",
      "['Maintenance Medication', 'Drug Name please use brand names', 'Dose', 'Presentation Required', 'Route', 'Frequency']\n",
      "['Qualification/GMC:', 'RN/NMC 81G 0175E', 'Telephone: 01226 432387']\n"
     ]
    }
   ],
   "source": [
    "for t in processed_data['value']:\n",
    "    print(t('headers'))"
   ]
  },
  {
   "cell_type": "code",
   "execution_count": 27,
   "metadata": {},
   "outputs": [
    {
     "data": {
      "text/html": [
       "<div>\n",
       "<style scoped>\n",
       "    .dataframe tbody tr th:only-of-type {\n",
       "        vertical-align: middle;\n",
       "    }\n",
       "\n",
       "    .dataframe tbody tr th {\n",
       "        vertical-align: top;\n",
       "    }\n",
       "\n",
       "    .dataframe thead th {\n",
       "        text-align: right;\n",
       "    }\n",
       "</style>\n",
       "<table border=\"1\" class=\"dataframe\">\n",
       "  <thead>\n",
       "    <tr style=\"text-align: right;\">\n",
       "      <th></th>\n",
       "      <th>Date of Birth:</th>\n",
       "      <th>23 February 1974</th>\n",
       "    </tr>\n",
       "  </thead>\n",
       "  <tbody>\n",
       "    <tr>\n",
       "      <th>0</th>\n",
       "      <td>Hospital No:</td>\n",
       "      <td>141714</td>\n",
       "    </tr>\n",
       "    <tr>\n",
       "      <th>1</th>\n",
       "      <td>NHS No:</td>\n",
       "      <td>408 323</td>\n",
       "    </tr>\n",
       "    <tr>\n",
       "      <th>2</th>\n",
       "      <td>Weight (kg):</td>\n",
       "      <td></td>\n",
       "    </tr>\n",
       "  </tbody>\n",
       "</table>\n",
       "</div>"
      ],
      "text/plain": [
       "  Date of Birth: 23 February 1974\n",
       "0   Hospital No:           141714\n",
       "1        NHS No:          408 323\n",
       "2   Weight (kg):                 "
      ]
     },
     "execution_count": 27,
     "metadata": {},
     "output_type": "execute_result"
    }
   ],
   "source": [
    "import pandas as pd\n",
    "\n",
    "t= processed_data['value'][0]\n",
    "r=t['raw_text']\n",
    "h=t['headers']\n",
    "df = pd.DataFrame([r[i:i+len(h)] for i in range(0, len(r), len(h))],columns=t['headers'])\n",
    "df"
   ]
  },
  {
   "attachments": {},
   "cell_type": "markdown",
   "metadata": {},
   "source": [
    "## Pushing to index"
   ]
  },
  {
   "cell_type": "code",
   "execution_count": 31,
   "metadata": {},
   "outputs": [],
   "source": [
    "body = {  \n",
    "  \"value\": [  \n",
    "    {  \n",
    "      \"@search.action\": \"merge\",  \n",
    "      \"metadata_storage_path\": \"aHR0cHM6Ly9mcnN0b3JhZ2UyMDIzLmJsb2IuY29yZS53aW5kb3dzLm5ldC9zY2llbnN1cy9SeCUyMDYucG5n0\",\n",
    "      \"tables\":[\"table content 1 API call from VSC\"]\n",
    "    },\n",
    "    {  \n",
    "      \"@search.action\": \"merge\",  \n",
    "      \"metadata_storage_path\": \"aHR0cHM6Ly9mcnN0b3JhZ2UyMDIzLmJsb2IuY29yZS53aW5kb3dzLm5ldC9zY2llbnN1cy9SeDEwLnRpZg2\",\n",
    "      \"tables\":[\"table content 2 API call from VSC\"]\n",
    "    }\n",
    "    \n",
    "  ]  \n",
    "} "
   ]
  },
  {
   "cell_type": "code",
   "execution_count": 32,
   "metadata": {},
   "outputs": [
    {
     "name": "stdout",
     "output_type": "stream",
     "text": [
      "https://search-fr.search.windows.net\n",
      "nvp3H9mYvjimcqxtvzE1FXP9kkc5HfXHSUOjyaEQ9yAzSeC6AxRC\n",
      "demo2023-fr\n"
     ]
    }
   ],
   "source": [
    "load_dotenv('..')\n",
    "search_endpoint = os.getenv('AZURE_SEARCH_ENDPOINT') \n",
    "search_key = os.getenv('AZURE_SEARCH_ENDPOINT_KEY')\n",
    "index_name = os.getenv('AZURE_SEARCH_INDEX_NAME') \n",
    "\n",
    "\n",
    "\n",
    "search_endpoint = \"https://search-fr.search.windows.net\"\n",
    "search_key = \"nvp3H9mYvjimcqxtvzE1FXP9kkc5HfXHSUOjyaEQ9yAzSeC6AxRC\"\n",
    "index_name = \"demo2023-fr\"\n",
    "\n",
    "print(search_endpoint)\n",
    "print(search_key)\n",
    "print(index_name)"
   ]
  },
  {
   "cell_type": "code",
   "execution_count": 34,
   "metadata": {},
   "outputs": [
    {
     "data": {
      "text/plain": [
       "<Response [200]>"
      ]
     },
     "execution_count": 34,
     "metadata": {},
     "output_type": "execute_result"
    }
   ],
   "source": [
    "headers = {'Content-Type': 'application/json', 'api-key': search_key}\n",
    "r = requests.post(search_endpoint + f\"/indexes/{index_name}/docs/index?api-version=2019-05-06\", headers=headers, json=body)\n",
    "r"
   ]
  },
  {
   "cell_type": "code",
   "execution_count": 29,
   "metadata": {},
   "outputs": [
    {
     "data": {
      "text/plain": [
       "b'{\"@odata.context\":\"https://search-fr.search.windows.net/indexes(\\'demo2023-fr\\')/$metadata#docs(*)\",\"value\":[{\"@search.score\":0.6735479,\"metadata_storage_path\":\"aHR0cHM6Ly9mcnN0b3JhZ2UyMDIzLmJsb2IuY29yZS53aW5kb3dzLm5ldC9zY2llbnN1cy9SeCUyMDYucG5n0\",\"metadata_storage_path_decoded\":\"https://frstorage2023.blob.core.windows.net/sciensus/Rx%206.png\",\"path\":\"https://frstorage2023.blob.core.windows.net/sciensus/Rx%206.png\",\"metadata_storage_size\":163182,\"metadata_storage_last_modified\":\"2023-02-08T10:47:22Z\",\"metadata_storage_name\":\"Rx 6.png\",\"merged_content\":\" Sciensus Private and Confidential . R Amgevita\\\\u00ae (adalimumab) Homecare Prescription *** NHS Service *** 27/10 Hospital Name Western General Hospital Prescription type Hospital Address Crewe Road South, Edinburgh New patient & EH4 2XU Renewal Post Code Dose change Therapy Switch Patient Name (including title) Mrs Ann Smith Address & 123 Somewhere Cold Post Code Edinburgh Date of Birth: 27/07/1967 Blueteq Ref: n/a Hospital Number: NHS / CHI Number: 2707671223 Indication: [] Rheumatoid Arthritis [] Ankylosing Spondylitis. . ] Psoriatic Arthritis Psoriasis Uveitis Hidradenitis Suppurativa [ Crohn\\'s Disease Other: Inflammatory Arthritis Ulcerative Colitis Purchase Order Number: R201028226 Weight (Kg): Known Allergies / Sensitivities: Induction Dose (complete if applicable for this prescription) Drug Presentation Dose Week / Day Route Amgevita\\\\u00ae 20mg pre-filled syringe n/a mg n/a (adalimumab) 40mg pre-filled syringe n/a mg n/a S.C 40mg pre-filled-pen n/a mg n/a Maintenance Dose - complete for all patients Drug Presentation Dose Frequency Route Amgevita\\\\u00ae 20mg pre-filled syringe (adalimumab) 40mg pre-filled syringe X1 40mg pre-filled pen 40 mg Fortnightly S.C\\' Please tick - I am prescribing this treatment off-label Yes No Please deliver every 8 weeks, for a total duration of 24 weeks Signature er Date 26/10/2 Name of Prescriber (Block Capitals) IN 8MAI Qualification / GPL 2210438 Telephone: Clinical Screening - If applicable Pharmacist Signature Date Name of Pharmacist (Block Capitals) Please forward signed original copy to: Pharmacy Department, Sciensus, 107 Station Street, Burton-upon- Trent, Staffordshire, DE14 1SZ Tel No: 01283 501390 \\\\n\",\"tables\":[\"dupa dupa1\"]}]}'"
      ]
     },
     "execution_count": 29,
     "metadata": {},
     "output_type": "execute_result"
    }
   ],
   "source": [
    "r = requests.get(search_endpoint + f\"/indexes/{index_name}/docs/?search=R201028226&api-version=2019-05-06\", headers=headers)\n",
    "r.content"
   ]
  },
  {
   "cell_type": "code",
   "execution_count": 23,
   "metadata": {},
   "outputs": [],
   "source": [
    "body = {'value': \n",
    "[{\n",
    "    '@search.action': 'merge', \n",
    "    'metadata_storage_path': 'aHR0cHM6Ly9mcnN0b3JhZ2UyMDIzLmJsb2IuY29yZS53aW5kb3dzLm5ldC9zY2llbnN1cy9SeCUyMDYucG5n0', \n",
    "    'tables': [\"{'page_number': 1, 'raw_count': 5, 'column_count': 2, 'headers': ['Date of Birth:', '23 February 1974'], 'cells': [{'text': 'Date of Birth:', 'rowIndex': 0, 'colIndex': 0, 'is_header': False}, {'is_header': True}, {'text': '23 February 1974', 'rowIndex': 0, 'colIndex': 1, 'is_header': False}, {'is_header': True}, {'text': 'Hospital No:', 'rowIndex': 1, 'colIndex': 0, 'is_header': False}, {'text': '141714', 'rowIndex': 1, 'colIndex': 1, 'is_header': False}, {'text': 'NHS No:', 'rowIndex': 2, 'colIndex': 0, 'is_header': False}, {'text': '408 323', 'rowIndex': 2, 'colIndex': 1, 'is_header': False}, {'text': 'Weight (kg):', 'rowIndex': 3, 'colIndex': 0, 'is_header': False}, {'text': '', 'rowIndex': 3, 'colIndex': 1, 'is_header': False}], 'raw_text': []}, {'page_number': 1, 'raw_count': 3, 'column_count': 5, 'headers': ['Must be completed\\\\nInduction Medication Complete if applicable', 'Drug Name', 'Dose', 'Presentation Required', 'Route', 'Frequency'], 'cells': [{'text': 'Must be completed\\\\nInduction Medication Complete if applicable', 'rowIndex': 0, 'colIndex': 0, 'is_header': False}, {'is_header': True}, {'text': 'Drug Name', 'rowIndex': 1, 'colIndex': 0, 'is_header': False}, {'is_header': True}, {'text': 'Dose', 'rowIndex': 1, 'colIndex': 1, 'is_header': False}, {'is_header': True}, {'text': 'Presentation Required', 'rowIndex': 1, 'colIndex': 2, 'is_header': False}, {'is_header': True}, {'text': 'Route', 'rowIndex': 1, 'colIndex': 3, 'is_header': False}, {'is_header': True}, {'text': 'Frequency', 'rowIndex': 1, 'colIndex': 4, 'is_header': False}, {'is_header': True}, {'text': '', 'rowIndex': 2, 'colIndex': 0, 'is_header': False}, {'text': '', 'rowIndex': 2, 'colIndex': 1, 'is_header': False}, {'text': '', 'rowIndex': 2, 'colIndex': 2, 'is_header': False}, {'text': '', 'rowIndex': 2, 'colIndex': 3, 'is_header': False}, {'text': '', 'rowIndex': 2, 'colIndex': 4, 'is_header': False}], 'raw_text': []}, {'page_number': 1, 'raw_count': 6, 'column_count': 5, 'headers': ['Maintenance Medication', 'Drug Name please use brand names', 'Dose', 'Presentation Required', 'Route', 'Frequency'], 'cells': [{'text': 'Maintenance Medication', 'rowIndex': 0, 'colIndex': 0, 'is_header': False}, {'is_header': True}, {'text': 'Drug Name please use brand names', 'rowIndex': 1, 'colIndex': 0, 'is_header': False}, {'is_header': True}, {'text': 'Dose', 'rowIndex': 1, 'colIndex': 1, 'is_header': False}, {'is_header': True}, {'text': 'Presentation Required', 'rowIndex': 1, 'colIndex': 2, 'is_header': False}, {'is_header': True}, {'text': 'Route', 'rowIndex': 1, 'colIndex': 3, 'is_header': False}, {'is_header': True}, {'text': 'Frequency', 'rowIndex': 1, 'colIndex': 4, 'is_header': False}, {'is_header': True}, {'text': 'Benepall (Etanercept)', 'rowIndex': 2, 'colIndex': 0, 'is_header': False}, {'text': '50mg', 'rowIndex': 2, 'colIndex': 1, 'is_header': False}, {'text': 'PEN', 'rowIndex': 2, 'colIndex': 2, 'is_header': False}, {'text': 'SC', 'rowIndex': 2, 'colIndex': 3, 'is_header': False}, {'text': '1/52', 'rowIndex': 2, 'colIndex': 4, 'is_header': False}, {'text': '', 'rowIndex': 3, 'colIndex': 0, 'is_header': False}, {'text': '', 'rowIndex': 3, 'colIndex': 1, 'is_header': False}, {'text': '', 'rowIndex': 3, 'colIndex': 2, 'is_header': False}, {'text': '', 'rowIndex': 3, 'colIndex': 3, 'is_header': False}, {'text': '', 'rowIndex': 3, 'colIndex': 4, 'is_header': False}, {'text': '', 'rowIndex': 4, 'colIndex': 0, 'is_header': False}, {'text': '', 'rowIndex': 4, 'colIndex': 1, 'is_header': False}, {'text': '', 'rowIndex': 4, 'colIndex': 2, 'is_header': False}, {'text': '', 'rowIndex': 4, 'colIndex': 3, 'is_header': False}, {'text': '', 'rowIndex': 4, 'colIndex': 4, 'is_header': False}, {'text': 'Ancillaries required Complete if applicable', 'rowIndex': 5, 'colIndex': 0, 'is_header': False}, {'text': '', 'rowIndex': 5, 'colIndex': 2, 'is_header': False}], 'raw_text': []}, {'page_number': 1, 'raw_count': 6, 'column_count': 7, 'headers': ['Qualification/GMC:', 'RN/NMC 81G 0175E', 'Telephone: 01226 432387'], 'cells': [{'text': 'Qualification/GMC:', 'rowIndex': 0, 'colIndex': 0, 'is_header': False}, {'is_header': True}, {'text': 'RN/NMC 81G 0175E', 'rowIndex': 0, 'colIndex': 1, 'is_header': False}, {'is_header': True}, {'text': 'Telephone: 01226 432387', 'rowIndex': 0, 'colIndex': 4, 'is_header': False}, {'is_header': True}, {'text': 'Clinical Screened By Pharmacy: Please indicate', 'rowIndex': 1, 'colIndex': 0, 'is_header': False}, {'text': '× Yes\\\\n:selected:', 'rowIndex': 1, 'colIndex': 2, 'is_header': False}, {'text': '0 No\\\\n:unselected:', 'rowIndex': 1, 'colIndex': 3, 'is_header': False}, {'text': 'Date:', 'rowIndex': 1, 'colIndex': 5, 'is_header': False}, {'text': '31/10/2', 'rowIndex': 1, 'colIndex': 6, 'is_header': False}, {'text': 'Pharmacist Signature:', 'rowIndex': 2, 'colIndex': 0, 'is_header': False}, {'text': '', 'rowIndex': 2, 'colIndex': 1, 'is_header': False}, {'text': '', 'rowIndex': 2, 'colIndex': 2, 'is_header': False}, {'text': '', 'rowIndex': 2, 'colIndex': 3, 'is_header': False}, {'text': '', 'rowIndex': 2, 'colIndex': 4, 'is_header': False}, {'text': 'Telephone:', 'rowIndex': 2, 'colIndex': 5, 'is_header': False}, {'text': '5046', 'rowIndex': 2, 'colIndex': 6, 'is_header': False}, {'text': 'Pharmacist Name: Please print', 'rowIndex': 3, 'colIndex': 0, 'is_header': False}, {'text': 'A.', 'rowIndex': 3, 'colIndex': 1, 'is_header': False}, {'text': 'Watson', 'rowIndex': 3, 'colIndex': 2, 'is_header': False}, {'text': '', 'rowIndex': 3, 'colIndex': 3, 'is_header': False}, {'text': '', 'rowIndex': 3, 'colIndex': 4, 'is_header': False}, {'text': '', 'rowIndex': 3, 'colIndex': 5, 'is_header': False}, {'text': '', 'rowIndex': 3, 'colIndex': 6, 'is_header': False}, {'text': 'Qualification/Gphc:', 'rowIndex': 4, 'colIndex': 0, 'is_header': False}, {'text': '5101622.', 'rowIndex': 4, 'colIndex': 1, 'is_header': False}, {'text': '', 'rowIndex': 4, 'colIndex': 3, 'is_header': False}, {'text': '', 'rowIndex': 4, 'colIndex': 4, 'is_header': False}, {'text': '', 'rowIndex': 4, 'colIndex': 5, 'is_header': False}, {'text': '', 'rowIndex': 4, 'colIndex': 6, 'is_header': False}, {'text': 'Purchase Order No: If applicable', 'rowIndex': 5, 'colIndex': 0, 'is_header': False}, {'text': '27239', 'rowIndex': 5, 'colIndex': 2, 'is_header': False}, {'text': '', 'rowIndex': 5, 'colIndex': 3, 'is_header': False}, {'text': '', 'rowIndex': 5, 'colIndex': 4, 'is_header': False}, {'text': '', 'rowIndex': 5, 'colIndex': 5, 'is_header': False}, {'text': '', 'rowIndex': 5, 'colIndex': 6, 'is_header': False}], 'raw_text': []}\"]\n",
    "    }]\n",
    "    }\n"
   ]
  }
 ],
 "metadata": {
  "kernelspec": {
   "display_name": ".venv",
   "language": "python",
   "name": "python3"
  },
  "language_info": {
   "codemirror_mode": {
    "name": "ipython",
    "version": 3
   },
   "file_extension": ".py",
   "mimetype": "text/x-python",
   "name": "python",
   "nbconvert_exporter": "python",
   "pygments_lexer": "ipython3",
   "version": "3.9.13"
  },
  "orig_nbformat": 4,
  "vscode": {
   "interpreter": {
    "hash": "3f9be697a01985a857ca9ee737119a24a890c9ff3cfdb0dffe2bdbbe7fc88447"
   }
  }
 },
 "nbformat": 4,
 "nbformat_minor": 2
}
