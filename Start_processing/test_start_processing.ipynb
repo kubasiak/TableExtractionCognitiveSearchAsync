{
 "cells": [
  {
   "cell_type": "code",
   "execution_count": 1,
   "metadata": {},
   "outputs": [],
   "source": [
    "import json\n",
    "from azure.ai.formrecognizer import FormRecognizerClient\n",
    "from azure.ai.formrecognizer import FormTrainingClient\n",
    "from azure.core.credentials import AzureKeyCredential\n",
    "import os\n",
    "import requests"
   ]
  },
  {
   "cell_type": "code",
   "execution_count": 25,
   "metadata": {},
   "outputs": [],
   "source": [
    "body = {\n",
    "    \"values\": [\n",
    "        {   \"recordId\": \"record1\",\n",
    "            \"data\": { \n",
    "                \"formUrl\": \"https://raw.githubusercontent.com/Azure-Samples/cognitive-services-REST-api-samples/master/curl/form-recognizer/rest-api/layout.png\",\n",
    "                \"formSasToken\": \"\"}\n",
    "        }\n",
    "    ]\n",
    "}\n",
    "json_data = json.dumps(body)\n",
    "values = json.loads(json_data)['values'] "
   ]
  },
  {
   "attachments": {},
   "cell_type": "markdown",
   "metadata": {},
   "source": [
    "## Adding FR metadata "
   ]
  },
  {
   "cell_type": "code",
   "execution_count": 27,
   "metadata": {},
   "outputs": [],
   "source": [
    "cog_endpoint = \"https://formr-pdf.cognitiveservices.azure.com/\"\n",
    "cog_key = \"c034489b5cc34af187712e6db5a2b756\"\n",
    "model= \"prebuilt-layout\"\n",
    "form_recognizer_url = f\"{cog_endpoint}formrecognizer/documentModels/{model}:analyze?api-version=2022-08-31\"\n"
   ]
  },
  {
   "attachments": {},
   "cell_type": "markdown",
   "metadata": {},
   "source": [
    "## Here comes the transform_value part\n",
    "\n"
   ]
  },
  {
   "cell_type": "code",
   "execution_count": 37,
   "metadata": {},
   "outputs": [
    {
     "data": {
      "text/plain": [
       "'{\"key\": \"\", \"file_path\": \"https://raw.githubusercontent.com/Azure-Samples/cognitive-services-REST-api-samples/master/curl/form-recognizer/rest-api/layout.png\", \"model\": \"prebuilt-layout\", \"operation_location\": \"\", \"Operation-location\": \"https://formr-pdf.cognitiveservices.azure.com/formrecognizer/documentModels/prebuilt-layout/analyzeResults/4dbb0d6a-d743-4d91-9e83-61f26efc3a12?api-version=2022-08-31\"}'"
      ]
     },
     "execution_count": 37,
     "metadata": {},
     "output_type": "execute_result"
    }
   ],
   "source": [
    "# extracting one value metadata\n",
    "value=values[0]\n",
    "data = value[\"data\"]\n",
    "form_url = data[\"formUrl\"]  + data[\"formSasToken\"]   \n",
    "recordId = value['recordId']\n",
    "\n",
    "\n",
    "# Making a placeholder for the service bus message\n",
    "output=[]\n",
    "output = {\n",
    "            \"key\": \"\",\n",
    "            \"file_path\": form_url,\n",
    "            \"model\": model,\n",
    "            \"Operation-location\":\"\"\n",
    "        } \n",
    "\n",
    "# Request to Azure Form Recognizer Model\n",
    "headers = {\"Content-Type\": \"application/json\", \"Ocp-Apim-Subscription-Key\": cog_key}\n",
    "body = {'urlSource': output['file_path']}\n",
    "r = requests.post(form_recognizer_url, headers=headers, json=body)\n",
    "\n",
    "# Adding last bit to the service bus message\n",
    "if r.status_code<300:\n",
    "    output['Operation-location'] = r.headers['Operation-Location']\n",
    "else: output['Operation-location']=f\"code: {r.status_code}\"\n",
    "json.dumps(output)\n"
   ]
  }
 ],
 "metadata": {
  "kernelspec": {
   "display_name": "venv",
   "language": "python",
   "name": "python3"
  },
  "language_info": {
   "codemirror_mode": {
    "name": "ipython",
    "version": 3
   },
   "file_extension": ".py",
   "mimetype": "text/x-python",
   "name": "python",
   "nbconvert_exporter": "python",
   "pygments_lexer": "ipython3",
   "version": "3.11.1 (tags/v3.11.1:a7a450f, Dec  6 2022, 19:58:39) [MSC v.1934 64 bit (AMD64)]"
  },
  "orig_nbformat": 4,
  "vscode": {
   "interpreter": {
    "hash": "0790262a85a2a0b3ca1e83a93340b5f6a685a048e5acc21461c7885a4be45318"
   }
  }
 },
 "nbformat": 4,
 "nbformat_minor": 2
}
