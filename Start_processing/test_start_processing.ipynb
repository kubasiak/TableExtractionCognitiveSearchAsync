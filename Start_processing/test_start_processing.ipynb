{
 "cells": [
  {
   "cell_type": "code",
   "execution_count": 2,
   "metadata": {},
   "outputs": [],
   "source": [
    "import json\n",
    "from azure.ai.formrecognizer import FormRecognizerClient\n",
    "from azure.ai.formrecognizer import FormTrainingClient\n",
    "from azure.core.credentials import AzureKeyCredential\n",
    "import os, requests\n",
    "from dotenv import load_dotenv\n"
   ]
  },
  {
   "cell_type": "code",
   "execution_count": 3,
   "metadata": {},
   "outputs": [],
   "source": [
    "body = {\n",
    "    \"values\": [\n",
    "        {   \"recordId\": \"record1\",\n",
    "            \"data\": { \n",
    "                \"formUrl\": \"https://raw.githubusercontent.com/Azure-Samples/cognitive-services-REST-api-samples/master/curl/form-recognizer/rest-api/layout.png\",\n",
    "                \"formSasToken\": \"\"}\n",
    "        }\n",
    "    ]\n",
    "}\n",
    "json_data = json.dumps(body)\n",
    "values = json.loads(json_data)['values'] "
   ]
  },
  {
   "attachments": {},
   "cell_type": "markdown",
   "metadata": {},
   "source": [
    "## Adding FR metadata "
   ]
  },
  {
   "cell_type": "code",
   "execution_count": 8,
   "metadata": {},
   "outputs": [],
   "source": [
    "load_dotenv('..')\n",
    "cog_endpoint = os.getenv('COGNITIVE_SERVICE_FORM_RECOGNIZER_ENDPOINT')\n",
    "cog_key = os.getenv('COGNITIVE_SERVICE_FORM_RECOGNIZER_KEY')\n",
    "model= \"prebuilt-layout\"\n",
    "form_recognizer_url = f\"{cog_endpoint}formrecognizer/documentModels/{model}:analyze?api-version=2022-08-31\"\n"
   ]
  },
  {
   "attachments": {},
   "cell_type": "markdown",
   "metadata": {},
   "source": [
    "## Here comes the transform_value part\n",
    "\n"
   ]
  },
  {
   "cell_type": "code",
   "execution_count": 12,
   "metadata": {},
   "outputs": [
    {
     "name": "stdout",
     "output_type": "stream",
     "text": [
      "202\n"
     ]
    },
    {
     "data": {
      "text/plain": [
       "'{\"key\": \"\", \"file_path\": \"https://raw.githubusercontent.com/Azure-Samples/cognitive-services-REST-api-samples/master/curl/form-recognizer/rest-api/layout.png\", \"model\": \"prebuilt-layout\", \"Operation-location\": \"https://formr-pdf.cognitiveservices.azure.com/formrecognizer/documentModels/prebuilt-layout/analyzeResults/7dc41909-61db-4e9d-985e-3243569f3f03?api-version=2022-08-31\"}'"
      ]
     },
     "execution_count": 12,
     "metadata": {},
     "output_type": "execute_result"
    }
   ],
   "source": [
    "# extracting one value metadata\n",
    "value=values[0]\n",
    "data = value[\"data\"]\n",
    "form_url = data[\"formUrl\"]  + data[\"formSasToken\"]   \n",
    "recordId = value['recordId']\n",
    "\n",
    "\n",
    "# Making a placeholder for the service bus message\n",
    "output=[]\n",
    "output = {\n",
    "            \"key\": \"\",\n",
    "            \"file_path\": form_url,\n",
    "            \"model\": model,\n",
    "            \"Operation-location\":\"\"\n",
    "        } \n",
    "\n",
    "# Request to Azure Form Recognizer Model\n",
    "headers = {\"Content-Type\": \"application/json\", \"Ocp-Apim-Subscription-Key\": cog_key}\n",
    "body = {'urlSource': output['file_path']}\n",
    "r = requests.post(form_recognizer_url, headers=headers, json=body)\n",
    "\n",
    "print(r.status_code)\n",
    "# Adding last bit to the service bus message\n",
    "if r.status_code<300:\n",
    "    output['Operation-location'] = r.headers['Operation-Location']\n",
    "else: output['Operation-location']=f\"code: {r.status_code}\"\n",
    "json.dumps(output)\n"
   ]
  }
 ],
 "metadata": {
  "kernelspec": {
   "display_name": ".venv",
   "language": "python",
   "name": "python3"
  },
  "language_info": {
   "codemirror_mode": {
    "name": "ipython",
    "version": 3
   },
   "file_extension": ".py",
   "mimetype": "text/x-python",
   "name": "python",
   "nbconvert_exporter": "python",
   "pygments_lexer": "ipython3",
   "version": "3.9.13"
  },
  "orig_nbformat": 4,
  "vscode": {
   "interpreter": {
    "hash": "3f9be697a01985a857ca9ee737119a24a890c9ff3cfdb0dffe2bdbbe7fc88447"
   }
  }
 },
 "nbformat": 4,
 "nbformat_minor": 2
}
