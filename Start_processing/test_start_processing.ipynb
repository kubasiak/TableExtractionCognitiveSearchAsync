{
 "cells": [
  {
   "cell_type": "code",
   "execution_count": 9,
   "metadata": {},
   "outputs": [],
   "source": [
    "import json\n",
    "from azure.ai.formrecognizer import FormRecognizerClient\n",
    "from azure.ai.formrecognizer import FormTrainingClient\n",
    "from azure.core.credentials import AzureKeyCredential\n",
    "import os, requests\n",
    "from dotenv import load_dotenv\n"
   ]
  },
  {
   "cell_type": "code",
   "execution_count": 3,
   "metadata": {},
   "outputs": [],
   "source": [
    "body = {\n",
    "    \"values\": [\n",
    "        {   \"recordId\": \"record1\",\n",
    "            \"data\": { \n",
    "                \"key\":\"aHR0cHM6Ly9mcnN0b3JhZ2UyMDIzLmJsb2IuY29yZS53aW5kb3dzLm5ldC9zY2llbnN1cy9SeCUyMDYucG5n0\",\n",
    "                \"metadata_storage_path\":\"aHR0cHM6Ly9mcnN0b3JhZ2UyMDIzLmJsb2IuY29yZS53aW5kb3dzLm5ldC9zY2llbnN1cy9SeCUyMDYucG5n0\",\n",
    "                \"metadata_storage_path_decoded\":\"https://frstorage2023.blob.core.windows.net/sciensus/Rx%207.png\",\n",
    "                \"formUrl\": \"https://frstorage2023.blob.core.windows.net/sciensus/Rx%207.png\",\n",
    "                \"formSasToken\": \"?sv=2021-10-04&st=2023-02-10T10%3A05%3A29Z&se=2025-10-31T10%3A05%3A00Z&sr=b&sp=r&sig=PxoN9tDIrJVF7NM4d8tXEE773um06OnB1jgMtyQ%2F6%2FM%3D\",\n",
    "                \"metadata_storage_sas_token\":\"?sv=2021-10-04&st=2023-02-10T10%3A05%3A29Z&se=2025-10-31T10%3A05%3A00Z&sr=b&sp=r&sig=PxoN9tDIrJVF7NM4d8tXEE773um06OnB1jgMtyQ%2F6%2FM%3D\"\n",
    "                }\n",
    "        }\n",
    "    ]\n",
    "}\n",
    "json_data = json.dumps(body)\n",
    "values = json.loads(json_data)['values'] "
   ]
  },
  {
   "cell_type": "code",
   "execution_count": null,
   "metadata": {},
   "outputs": [],
   "source": []
  },
  {
   "cell_type": "code",
   "execution_count": 29,
   "metadata": {},
   "outputs": [
    {
     "data": {
      "text/plain": [
       "\"{'metadata_storage_path': 'https://frstorage2023.blob.core.windows.net/sciensus/Rx%207.png', 'metadata_storage_path_decoded': 'https://frstorage2023.blob.core.windows.net/sciensus/Rx%207.png', 'formUrl': 'https://frstorage2023.blob.core.windows.net/sciensus/Rx%207.png', 'formSasToken': '?sv=2021-10-04&st=2023-02-09T09%3A49%3A18Z&se=2023-02-10T09%3A49%3A18Z&sr=b&sp=r&sig=NBABXHCPGq8Z9lNrGuTEEKFoDEUGQD72IUbTTtHNCNw%3D', 'metadata_storage_sas_tokem': '?sv=2021-10-04&st=2023-02-09T09%3A49%3A18Z&se=2023-02-10T09%3A49%3A18Z&sr=b&sp=r&sig=NBABXHCPGq8Z9lNrGuTEEKFoDEUGQD72IUbTTtHNCNw%3D'}\""
      ]
     },
     "execution_count": 29,
     "metadata": {},
     "output_type": "execute_result"
    }
   ],
   "source": [
    "str(body['values'][0]['data'])\n",
    "\n"
   ]
  },
  {
   "cell_type": "code",
   "execution_count": 34,
   "metadata": {},
   "outputs": [],
   "source": [
    "body = {\n",
    "    \"values\": [\n",
    "        {   \"recordId\": \"record1\",\n",
    "            \"data\": { \n",
    "                \"metadata_storage_path\":\"https://raw.githubusercontent.com/Azure-Samples/cognitive-services-REST-api-samples/master/curl/form-recognizer/rest-api/layout.png\",\n",
    "                \"metadata_storage_path_decoded\":\"https://raw.githubusercontent.com/Azure-Samples/cognitive-services-REST-api-samples/master/curl/form-recognizer/rest-api/layout.png\",\n",
    "                \"formUrl\": \"https://raw.githubusercontent.com/Azure-Samples/cognitive-services-REST-api-samples/master/curl/form-recognizer/rest-api/layout.png\",\n",
    "                \"formSasToken\": \"\",\n",
    "                \"metadata_storage_sas_token\":\"\"\n",
    "                }\n",
    "        }\n",
    "    ]\n",
    "}\n",
    "json_data = json.dumps(body)\n",
    "values = json.loads(json_data)['values'] "
   ]
  },
  {
   "attachments": {},
   "cell_type": "markdown",
   "metadata": {},
   "source": [
    "## Adding FR metadata "
   ]
  },
  {
   "cell_type": "code",
   "execution_count": 35,
   "metadata": {},
   "outputs": [],
   "source": [
    "load_dotenv('..')\n",
    "cog_endpoint = os.getenv('COGNITIVE_SERVICE_FORM_RECOGNIZER_ENDPOINT')\n",
    "cog_key = os.getenv('COGNITIVE_SERVICE_FORM_RECOGNIZER_KEY')\n",
    "model= \"prebuilt-layout\"\n",
    "form_recognizer_url = f\"{cog_endpoint}formrecognizer/documentModels/{model}:analyze?api-version=2022-08-31\"\n"
   ]
  },
  {
   "attachments": {},
   "cell_type": "markdown",
   "metadata": {},
   "source": [
    "## Here comes the transform_value part\n",
    "\n"
   ]
  },
  {
   "cell_type": "code",
   "execution_count": 36,
   "metadata": {},
   "outputs": [
    {
     "name": "stdout",
     "output_type": "stream",
     "text": [
      "202\n"
     ]
    },
    {
     "data": {
      "text/plain": [
       "'{\"key\": \"\", \"file_path\": \"https://raw.githubusercontent.com/Azure-Samples/cognitive-services-REST-api-samples/master/curl/form-recognizer/rest-api/layout.png\", \"model\": \"prebuilt-layout\", \"Operation-location\": \"https://formr-pdf.cognitiveservices.azure.com/formrecognizer/documentModels/prebuilt-layout/analyzeResults/c281178f-87f4-4ffd-89ac-11fe548d4ad7?api-version=2022-08-31\"}'"
      ]
     },
     "execution_count": 36,
     "metadata": {},
     "output_type": "execute_result"
    }
   ],
   "source": [
    "# extracting one value metadata\n",
    "value=values[0]\n",
    "data = value[\"data\"]\n",
    "form_url = data[\"formUrl\"]  + data[\"formSasToken\"]   \n",
    "recordId = value['recordId']\n",
    "\n",
    "\n",
    "# Making a placeholder for the service bus message\n",
    "output=[]\n",
    "output = {\n",
    "            \"key\": \"\",\n",
    "            \"file_path\": form_url,\n",
    "            \"model\": model,\n",
    "            \"Operation-location\":\"\"\n",
    "        } \n",
    "\n",
    "# Request to Azure Form Recognizer Model\n",
    "headers = {\"Content-Type\": \"application/json\", \"Ocp-Apim-Subscription-Key\": cog_key}\n",
    "body = {'urlSource': output['file_path']}\n",
    "r = requests.post(form_recognizer_url, headers=headers, json=body)\n",
    "\n",
    "print(r.status_code)\n",
    "# Adding last bit to the service bus message\n",
    "if r.status_code<300:\n",
    "    output['Operation-location'] = r.headers['Operation-Location']\n",
    "else: output['Operation-location']=f\"code: {r.status_code}\"\n",
    "json.dumps(output)\n"
   ]
  },
  {
   "cell_type": "code",
   "execution_count": 37,
   "metadata": {},
   "outputs": [
    {
     "data": {
      "text/plain": [
       "<Response [202]>"
      ]
     },
     "execution_count": 37,
     "metadata": {},
     "output_type": "execute_result"
    }
   ],
   "source": [
    "requests.post(form_recognizer_url, headers=headers, json=body)"
   ]
  },
  {
   "cell_type": "code",
   "execution_count": 17,
   "metadata": {},
   "outputs": [
    {
     "data": {
      "text/plain": [
       "[{'page_number': 'p0',\n",
       "  'raw_count': '122',\n",
       "  'column_count': '23',\n",
       "  'headers': [2, 3, 4],\n",
       "  'cells': ['a', 'b', 'c'],\n",
       "  'raw_text': 'abc'},\n",
       " {'page_number': 'p1',\n",
       "  'raw_count': '122',\n",
       "  'column_count': '23',\n",
       "  'headers': [2, 3, 4],\n",
       "  'cells': ['a', 'b', 'c'],\n",
       "  'raw_text': 'abc'}]"
      ]
     },
     "execution_count": 17,
     "metadata": {},
     "output_type": "execute_result"
    }
   ],
   "source": [
    "tables = []\n",
    "for i in range (2):\n",
    "    tables.append({\"page_number\": 'p'+str(i),\n",
    "                    \"raw_count\" : '122',\n",
    "                    \"column_count\": '23',\n",
    "                    \"headers\": [2,3,4],\n",
    "                    \"cells\": ['a','b','c'],\n",
    "                    \"raw_text\":'abc'}) \n",
    "# tables is a list of dictionaries\n"
   ]
  },
  {
   "cell_type": "code",
   "execution_count": 21,
   "metadata": {},
   "outputs": [
    {
     "data": {
      "text/plain": [
       "{'value': [{'@search.action': 'merge',\n",
       "   'metadata_storage_path': 'path_from_data',\n",
       "   'tables': [{'page_number': 'p0',\n",
       "     'raw_count': '122',\n",
       "     'column_count': '23',\n",
       "     'headers': [2, 3, 4],\n",
       "     'cells': ['a', 'b', 'c'],\n",
       "     'raw_text': 'abc'},\n",
       "    {'page_number': 'p1',\n",
       "     'raw_count': '122',\n",
       "     'column_count': '23',\n",
       "     'headers': [2, 3, 4],\n",
       "     'cells': ['a', 'b', 'c'],\n",
       "     'raw_text': 'abc'}]}]}"
      ]
     },
     "execution_count": 21,
     "metadata": {},
     "output_type": "execute_result"
    }
   ],
   "source": [
    "results = {  \n",
    "        \"value\": [  \n",
    "            {  \n",
    "                \"@search.action\": \"merge\",  \n",
    "                \"metadata_storage_path\": 'path_from_data'\n",
    "            }  \n",
    "        ]  \n",
    "    }\n",
    "\n",
    "results['value'][0]['tables']=tables\n",
    "results"
   ]
  }
 ],
 "metadata": {
  "kernelspec": {
   "display_name": ".venv",
   "language": "python",
   "name": "python3"
  },
  "language_info": {
   "codemirror_mode": {
    "name": "ipython",
    "version": 3
   },
   "file_extension": ".py",
   "mimetype": "text/x-python",
   "name": "python",
   "nbconvert_exporter": "python",
   "pygments_lexer": "ipython3",
   "version": "3.9.13"
  },
  "orig_nbformat": 4,
  "vscode": {
   "interpreter": {
    "hash": "3f9be697a01985a857ca9ee737119a24a890c9ff3cfdb0dffe2bdbbe7fc88447"
   }
  }
 },
 "nbformat": 4,
 "nbformat_minor": 2
}
